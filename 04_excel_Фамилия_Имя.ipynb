{
 "cells": [
  {
   "cell_type": "markdown",
   "metadata": {},
   "source": [
    "# Работа с Excel"
   ]
  },
  {
   "cell_type": "markdown",
   "metadata": {},
   "source": [
    "Материалы:\n",
    "* Макрушин С.В. Лекция 7: Работа с Excel\n",
    "* https://docs.xlwings.org/en/stable/quickstart.html\n",
    "* https://nbviewer.jupyter.org/github/pybokeh/jupyter_notebooks/blob/master/xlwings/Excel_Formatting.ipynb#search_text\n"
   ]
  },
  {
   "cell_type": "markdown",
   "metadata": {},
   "source": [
    "## Задачи для совместного разбора"
   ]
  },
  {
   "cell_type": "markdown",
   "metadata": {},
   "source": [
    "1. На листе \"Рецептура\" файла `себестоимостьА_в1.xlsx` для области \"Пшеничный хлеб\" рассчитать себестоимость всех видов продукции."
   ]
  },
  {
   "cell_type": "markdown",
   "metadata": {},
   "source": [
    "2. Результаты расчетов 1.1 сохранить в отдельном столбце области \"Пшеничный хлеб\""
   ]
  },
  {
   "cell_type": "code",
   "execution_count": 47,
   "metadata": {},
   "outputs": [],
   "source": [
    "import xlwings as xw"
   ]
  },
  {
   "cell_type": "code",
   "execution_count": 167,
   "metadata": {},
   "outputs": [
    {
     "data": {
      "text/plain": [
       "[21.48, 16.525, 17.423000000000002, 18.085]"
      ]
     },
     "execution_count": 167,
     "metadata": {},
     "output_type": "execute_result"
    }
   ],
   "source": [
    "wb = xw.Book('data/себестоимостьА_в1.xlsx')\n",
    "\n",
    "xw.Range(\"T7:T10\").formula2 = '=SUM(G7:O7*G$14:O$14)'\n",
    "\n",
    "xw.Range('T4').columns[0].autofit()\n",
    "\n",
    "xw.Range('T7:T10').value"
   ]
  },
  {
   "cell_type": "markdown",
   "metadata": {},
   "source": [
    "3. Приблизить форматирование столбца, добавленного в задаче 2 к оформлению всей области."
   ]
  },
  {
   "cell_type": "code",
   "execution_count": 151,
   "metadata": {},
   "outputs": [],
   "source": [
    "from appscript import k"
   ]
  },
  {
   "cell_type": "code",
   "execution_count": 176,
   "metadata": {},
   "outputs": [],
   "source": [
    "xw.Range('T4:T6').merge(across=False)\n",
    "xw.Range('S3:T3').merge(across=False)\n",
    "\n",
    "xw.Range('T4').value = 'Себестоимость'\n",
    "\n",
    "xw.Range('T4').color = (245, 192, 0)\n",
    "xw.Range('T7:T10').color = (255, 255, 167)\n",
    "\n",
    "xw.Range('T4:T6').api.VerticalAlignment = xw.constants.HAlign.xlHAlignCenter\n",
    "\n",
    "xw.Range('T4').font.color = \"#ffffff\"\n",
    "xw.Range('T4').font.bold = True\n",
    "\n",
    "xw.Range('T4:T11').api.get_border(which_border=k.border_top).weight.set(2)\n",
    "xw.Range('T4:T10').api.get_border(which_border=k.border_right).weight.set(2)"
   ]
  },
  {
   "cell_type": "markdown",
   "metadata": {},
   "source": [
    "4. Выполнить 3 с помощью \"протягиваемых\" формул."
   ]
  },
  {
   "cell_type": "code",
   "execution_count": null,
   "metadata": {},
   "outputs": [],
   "source": []
  },
  {
   "cell_type": "markdown",
   "metadata": {},
   "source": [
    "## Лабораторная работа 7.1"
   ]
  },
  {
   "cell_type": "markdown",
   "metadata": {},
   "source": [
    "1. Загрузите данные из файлов `reviews_sample.csv` (__ЛР2__) и `recipes_sample.csv` (__ЛР5__) в виде `pd.DataFrame`. Обратите внимание на корректное считывание столбца(ов) с индексами. Оставьте в таблице с рецептами следующие столбцы: `id`, `name`, `minutes`, `submitted`, `description`, `n_ingredients`"
   ]
  },
  {
   "cell_type": "code",
   "execution_count": 177,
   "metadata": {},
   "outputs": [],
   "source": [
    "import numpy as np\n",
    "import pandas as pd"
   ]
  },
  {
   "cell_type": "code",
   "execution_count": 179,
   "metadata": {},
   "outputs": [
    {
     "data": {
      "text/html": [
       "<div>\n",
       "<style scoped>\n",
       "    .dataframe tbody tr th:only-of-type {\n",
       "        vertical-align: middle;\n",
       "    }\n",
       "\n",
       "    .dataframe tbody tr th {\n",
       "        vertical-align: top;\n",
       "    }\n",
       "\n",
       "    .dataframe thead th {\n",
       "        text-align: right;\n",
       "    }\n",
       "</style>\n",
       "<table border=\"1\" class=\"dataframe\">\n",
       "  <thead>\n",
       "    <tr style=\"text-align: right;\">\n",
       "      <th></th>\n",
       "      <th>name</th>\n",
       "      <th>id</th>\n",
       "      <th>minutes</th>\n",
       "      <th>submitted</th>\n",
       "      <th>description</th>\n",
       "      <th>n_ingredients</th>\n",
       "    </tr>\n",
       "  </thead>\n",
       "  <tbody>\n",
       "    <tr>\n",
       "      <th>0</th>\n",
       "      <td>george s at the cove  black bean soup</td>\n",
       "      <td>44123</td>\n",
       "      <td>90</td>\n",
       "      <td>2002-10-25</td>\n",
       "      <td>an original recipe created by chef scott meska...</td>\n",
       "      <td>18.0</td>\n",
       "    </tr>\n",
       "    <tr>\n",
       "      <th>1</th>\n",
       "      <td>healthy for them  yogurt popsicles</td>\n",
       "      <td>67664</td>\n",
       "      <td>10</td>\n",
       "      <td>2003-07-26</td>\n",
       "      <td>my children and their friends ask for my homem...</td>\n",
       "      <td>NaN</td>\n",
       "    </tr>\n",
       "    <tr>\n",
       "      <th>2</th>\n",
       "      <td>i can t believe it s spinach</td>\n",
       "      <td>38798</td>\n",
       "      <td>30</td>\n",
       "      <td>2002-08-29</td>\n",
       "      <td>these were so go, it surprised even me.</td>\n",
       "      <td>8.0</td>\n",
       "    </tr>\n",
       "    <tr>\n",
       "      <th>3</th>\n",
       "      <td>italian  gut busters</td>\n",
       "      <td>35173</td>\n",
       "      <td>45</td>\n",
       "      <td>2002-07-27</td>\n",
       "      <td>my sister-in-law made these for us at a family...</td>\n",
       "      <td>NaN</td>\n",
       "    </tr>\n",
       "    <tr>\n",
       "      <th>4</th>\n",
       "      <td>love is in the air  beef fondue   sauces</td>\n",
       "      <td>84797</td>\n",
       "      <td>25</td>\n",
       "      <td>2004-02-23</td>\n",
       "      <td>i think a fondue is a very romantic casual din...</td>\n",
       "      <td>NaN</td>\n",
       "    </tr>\n",
       "    <tr>\n",
       "      <th>...</th>\n",
       "      <td>...</td>\n",
       "      <td>...</td>\n",
       "      <td>...</td>\n",
       "      <td>...</td>\n",
       "      <td>...</td>\n",
       "      <td>...</td>\n",
       "    </tr>\n",
       "    <tr>\n",
       "      <th>29995</th>\n",
       "      <td>zurie s holey rustic olive and cheddar bread</td>\n",
       "      <td>267661</td>\n",
       "      <td>80</td>\n",
       "      <td>2007-11-25</td>\n",
       "      <td>this is based on a french recipe but i changed...</td>\n",
       "      <td>10.0</td>\n",
       "    </tr>\n",
       "    <tr>\n",
       "      <th>29996</th>\n",
       "      <td>zwetschgenkuchen  bavarian plum cake</td>\n",
       "      <td>386977</td>\n",
       "      <td>240</td>\n",
       "      <td>2009-08-24</td>\n",
       "      <td>this is a traditional fresh plum cake, thought...</td>\n",
       "      <td>11.0</td>\n",
       "    </tr>\n",
       "    <tr>\n",
       "      <th>29997</th>\n",
       "      <td>zwiebelkuchen   southwest german onion cake</td>\n",
       "      <td>103312</td>\n",
       "      <td>75</td>\n",
       "      <td>2004-11-03</td>\n",
       "      <td>this is a traditional late summer early fall s...</td>\n",
       "      <td>NaN</td>\n",
       "    </tr>\n",
       "    <tr>\n",
       "      <th>29998</th>\n",
       "      <td>zydeco soup</td>\n",
       "      <td>486161</td>\n",
       "      <td>60</td>\n",
       "      <td>2012-08-29</td>\n",
       "      <td>this is a delicious soup that i originally fou...</td>\n",
       "      <td>NaN</td>\n",
       "    </tr>\n",
       "    <tr>\n",
       "      <th>29999</th>\n",
       "      <td>cookies by design   cookies on a stick</td>\n",
       "      <td>298512</td>\n",
       "      <td>29</td>\n",
       "      <td>2008-04-15</td>\n",
       "      <td>i've heard of the 'cookies by design' company,...</td>\n",
       "      <td>10.0</td>\n",
       "    </tr>\n",
       "  </tbody>\n",
       "</table>\n",
       "<p>30000 rows × 6 columns</p>\n",
       "</div>"
      ],
      "text/plain": [
       "                                               name      id  minutes  \\\n",
       "0             george s at the cove  black bean soup   44123       90   \n",
       "1                healthy for them  yogurt popsicles   67664       10   \n",
       "2                      i can t believe it s spinach   38798       30   \n",
       "3                              italian  gut busters   35173       45   \n",
       "4          love is in the air  beef fondue   sauces   84797       25   \n",
       "...                                             ...     ...      ...   \n",
       "29995  zurie s holey rustic olive and cheddar bread  267661       80   \n",
       "29996          zwetschgenkuchen  bavarian plum cake  386977      240   \n",
       "29997   zwiebelkuchen   southwest german onion cake  103312       75   \n",
       "29998                                   zydeco soup  486161       60   \n",
       "29999        cookies by design   cookies on a stick  298512       29   \n",
       "\n",
       "        submitted                                        description  \\\n",
       "0      2002-10-25  an original recipe created by chef scott meska...   \n",
       "1      2003-07-26  my children and their friends ask for my homem...   \n",
       "2      2002-08-29            these were so go, it surprised even me.   \n",
       "3      2002-07-27  my sister-in-law made these for us at a family...   \n",
       "4      2004-02-23  i think a fondue is a very romantic casual din...   \n",
       "...           ...                                                ...   \n",
       "29995  2007-11-25  this is based on a french recipe but i changed...   \n",
       "29996  2009-08-24  this is a traditional fresh plum cake, thought...   \n",
       "29997  2004-11-03  this is a traditional late summer early fall s...   \n",
       "29998  2012-08-29  this is a delicious soup that i originally fou...   \n",
       "29999  2008-04-15  i've heard of the 'cookies by design' company,...   \n",
       "\n",
       "       n_ingredients  \n",
       "0               18.0  \n",
       "1                NaN  \n",
       "2                8.0  \n",
       "3                NaN  \n",
       "4                NaN  \n",
       "...              ...  \n",
       "29995           10.0  \n",
       "29996           11.0  \n",
       "29997            NaN  \n",
       "29998            NaN  \n",
       "29999           10.0  \n",
       "\n",
       "[30000 rows x 6 columns]"
      ]
     },
     "execution_count": 179,
     "metadata": {},
     "output_type": "execute_result"
    }
   ],
   "source": [
    "recipes = pd.read_csv(\n",
    "    './data/recipes_sample.csv', \n",
    "    delimiter=',', \n",
    "    usecols=['id', 'name', 'minutes', 'submitted', 'description', 'n_ingredients']\n",
    ")\n",
    "reviews = pd.read_csv('./data/reviews_sample.csv', delimiter=',', index_col=0)\n",
    "recipes"
   ]
  },
  {
   "cell_type": "markdown",
   "metadata": {},
   "source": [
    "2. Случайным образом выберите 5% строк из каждой таблицы и сохраните две таблицы на разные листы в один файл `recipes.xlsx`. Дайте листам названия \"Рецепты\" и \"Отзывы\", соответствующие содержанию таблиц. "
   ]
  },
  {
   "cell_type": "code",
   "execution_count": 215,
   "metadata": {},
   "outputs": [
    {
     "name": "stderr",
     "output_type": "stream",
     "text": [
      "/var/folders/x_/c8gn0yln5gn3kbdg4w8164t40000gn/T/ipykernel_21087/2408276244.py:9: FutureWarning: save is not part of the public API, usage can give unexpected results and will be removed in a future version\n",
      "  writer.save()\n"
     ]
    },
    {
     "data": {
      "text/html": [
       "<div>\n",
       "<style scoped>\n",
       "    .dataframe tbody tr th:only-of-type {\n",
       "        vertical-align: middle;\n",
       "    }\n",
       "\n",
       "    .dataframe tbody tr th {\n",
       "        vertical-align: top;\n",
       "    }\n",
       "\n",
       "    .dataframe thead th {\n",
       "        text-align: right;\n",
       "    }\n",
       "</style>\n",
       "<table border=\"1\" class=\"dataframe\">\n",
       "  <thead>\n",
       "    <tr style=\"text-align: right;\">\n",
       "      <th></th>\n",
       "      <th>user_id</th>\n",
       "      <th>recipe_id</th>\n",
       "      <th>date</th>\n",
       "      <th>rating</th>\n",
       "      <th>review</th>\n",
       "    </tr>\n",
       "  </thead>\n",
       "  <tbody>\n",
       "    <tr>\n",
       "      <th>564396</th>\n",
       "      <td>415084</td>\n",
       "      <td>256914</td>\n",
       "      <td>2010-04-22</td>\n",
       "      <td>5</td>\n",
       "      <td>This is so close to the original it must have ...</td>\n",
       "    </tr>\n",
       "    <tr>\n",
       "      <th>879832</th>\n",
       "      <td>135566</td>\n",
       "      <td>304236</td>\n",
       "      <td>2008-11-01</td>\n",
       "      <td>3</td>\n",
       "      <td>A hearty, meaty soup that was very quick and e...</td>\n",
       "    </tr>\n",
       "    <tr>\n",
       "      <th>803514</th>\n",
       "      <td>164610</td>\n",
       "      <td>272182</td>\n",
       "      <td>2008-01-24</td>\n",
       "      <td>4</td>\n",
       "      <td>Nice recipe, Jules!  It looks like I'm first t...</td>\n",
       "    </tr>\n",
       "    <tr>\n",
       "      <th>452889</th>\n",
       "      <td>407781</td>\n",
       "      <td>322348</td>\n",
       "      <td>2011-05-18</td>\n",
       "      <td>5</td>\n",
       "      <td>I loved this recipe, it was super easy.  The l...</td>\n",
       "    </tr>\n",
       "    <tr>\n",
       "      <th>133422</th>\n",
       "      <td>1353015</td>\n",
       "      <td>24153</td>\n",
       "      <td>2012-02-05</td>\n",
       "      <td>5</td>\n",
       "      <td>I recently discovered this recipe and it is fa...</td>\n",
       "    </tr>\n",
       "    <tr>\n",
       "      <th>...</th>\n",
       "      <td>...</td>\n",
       "      <td>...</td>\n",
       "      <td>...</td>\n",
       "      <td>...</td>\n",
       "      <td>...</td>\n",
       "    </tr>\n",
       "    <tr>\n",
       "      <th>135464</th>\n",
       "      <td>337246</td>\n",
       "      <td>110507</td>\n",
       "      <td>2010-02-14</td>\n",
       "      <td>5</td>\n",
       "      <td>This potato soup is easy and delicious!  Didn'...</td>\n",
       "    </tr>\n",
       "    <tr>\n",
       "      <th>444941</th>\n",
       "      <td>42843</td>\n",
       "      <td>66459</td>\n",
       "      <td>2003-08-07</td>\n",
       "      <td>5</td>\n",
       "      <td>I made this for the Zaar Chef Alphabet Soup Ga...</td>\n",
       "    </tr>\n",
       "    <tr>\n",
       "      <th>468259</th>\n",
       "      <td>265956</td>\n",
       "      <td>138173</td>\n",
       "      <td>2007-12-28</td>\n",
       "      <td>5</td>\n",
       "      <td>YUM. This is my new favorite way to eat potato...</td>\n",
       "    </tr>\n",
       "    <tr>\n",
       "      <th>415000</th>\n",
       "      <td>256795</td>\n",
       "      <td>283551</td>\n",
       "      <td>2009-04-29</td>\n",
       "      <td>5</td>\n",
       "      <td>These were very yummy topped with the Golden G...</td>\n",
       "    </tr>\n",
       "    <tr>\n",
       "      <th>97713</th>\n",
       "      <td>2246732</td>\n",
       "      <td>229278</td>\n",
       "      <td>2012-04-23</td>\n",
       "      <td>4</td>\n",
       "      <td>Asked my 7 year old to choose ingredients for ...</td>\n",
       "    </tr>\n",
       "  </tbody>\n",
       "</table>\n",
       "<p>6334 rows × 5 columns</p>\n",
       "</div>"
      ],
      "text/plain": [
       "        user_id  recipe_id        date  rating  \\\n",
       "564396   415084     256914  2010-04-22       5   \n",
       "879832   135566     304236  2008-11-01       3   \n",
       "803514   164610     272182  2008-01-24       4   \n",
       "452889   407781     322348  2011-05-18       5   \n",
       "133422  1353015      24153  2012-02-05       5   \n",
       "...         ...        ...         ...     ...   \n",
       "135464   337246     110507  2010-02-14       5   \n",
       "444941    42843      66459  2003-08-07       5   \n",
       "468259   265956     138173  2007-12-28       5   \n",
       "415000   256795     283551  2009-04-29       5   \n",
       "97713   2246732     229278  2012-04-23       4   \n",
       "\n",
       "                                                   review  \n",
       "564396  This is so close to the original it must have ...  \n",
       "879832  A hearty, meaty soup that was very quick and e...  \n",
       "803514  Nice recipe, Jules!  It looks like I'm first t...  \n",
       "452889  I loved this recipe, it was super easy.  The l...  \n",
       "133422  I recently discovered this recipe and it is fa...  \n",
       "...                                                   ...  \n",
       "135464  This potato soup is easy and delicious!  Didn'...  \n",
       "444941  I made this for the Zaar Chef Alphabet Soup Ga...  \n",
       "468259  YUM. This is my new favorite way to eat potato...  \n",
       "415000  These were very yummy topped with the Golden G...  \n",
       "97713   Asked my 7 year old to choose ingredients for ...  \n",
       "\n",
       "[6334 rows x 5 columns]"
      ]
     },
     "execution_count": 215,
     "metadata": {},
     "output_type": "execute_result"
    }
   ],
   "source": [
    "recipes_5 = recipes.iloc[np.random.choice(len(recipes), int(len(recipes)*0.05), replace=False)]\n",
    "reviews_5 = reviews.iloc[np.random.choice(len(reviews), int(len(reviews)*0.05), replace=False)]\n",
    "\n",
    "writer = pd.ExcelWriter('./recipes.xlsx', engine='xlsxwriter')\n",
    "\n",
    "recipes_5.to_excel(writer, sheet_name='Рецепты', index=False)\n",
    "reviews_5.to_excel(writer, sheet_name='Отзывы')\n",
    "\n",
    "writer.save()\n",
    "\n",
    "reviews_5"
   ]
  },
  {
   "cell_type": "markdown",
   "metadata": {},
   "source": [
    "3. Используя `xlwings`, добавьте на лист `Рецепты` столбец `seconds_assign`, показывающий время выполнения рецепта в секундах. Выполните задание при помощи присваивания массива значений диапазону ячеек."
   ]
  },
  {
   "cell_type": "code",
   "execution_count": 273,
   "metadata": {},
   "outputs": [],
   "source": [
    "wb = xw.Book('recipes.xlsx')\n",
    "sht = wb.sheets['Рецепты']\n",
    "\n",
    "sht.range('G1').value = 'seconds_assign'\n",
    "\n",
    "seconds = np.array(sht.range('C2:C1501').value)*60\n",
    "\n",
    "sht.range('G2').options(transpose=True).value = seconds"
   ]
  },
  {
   "cell_type": "markdown",
   "metadata": {},
   "source": [
    "4. Используя `xlwings`, добавьте на лист `Рецепты` столбец `seconds_formula`, показывающий время выполнения рецепта в секундах. Выполните задание при помощи формул Excel."
   ]
  },
  {
   "cell_type": "code",
   "execution_count": 251,
   "metadata": {},
   "outputs": [],
   "source": [
    "sht.range('H1').value = 'seconds_formula'\n",
    "\n",
    "sht.range('H2:H1501').formula2 = '=C2*60'"
   ]
  },
  {
   "cell_type": "markdown",
   "metadata": {},
   "source": [
    "5. Сделайте названия всех добавленных столбцов полужирными и выровняйте по центру ячейки."
   ]
  },
  {
   "cell_type": "code",
   "execution_count": 250,
   "metadata": {},
   "outputs": [],
   "source": [
    "xw.Range('G1').font.bold = True\n",
    "xw.Range('H1').font.bold = True"
   ]
  },
  {
   "cell_type": "markdown",
   "metadata": {},
   "source": [
    "6. Раскрасьте ячейки столбца `minutes` в соответствии со следующим правилом: если рецепт выполняется быстрее 5 минут, то цвет - зеленый; от 5 до 10 минут - жёлтый; и больше 10 - красный."
   ]
  },
  {
   "cell_type": "code",
   "execution_count": 258,
   "metadata": {},
   "outputs": [
    {
     "ename": "TypeError",
     "evalue": "'<' not supported between instances of 'NoneType' and 'int'",
     "output_type": "error",
     "traceback": [
      "\u001b[0;31m---------------------------------------------------------------------------\u001b[0m",
      "\u001b[0;31mTypeError\u001b[0m                                 Traceback (most recent call last)",
      "Cell \u001b[0;32mIn[258], line 3\u001b[0m\n\u001b[1;32m      1\u001b[0m \u001b[39mfor\u001b[39;00m i \u001b[39min\u001b[39;00m \u001b[39mrange\u001b[39m(\u001b[39m2\u001b[39m, \u001b[39m10502\u001b[39m):\n\u001b[1;32m      2\u001b[0m     cell \u001b[39m=\u001b[39m sht\u001b[39m.\u001b[39mrange(\u001b[39mf\u001b[39m\u001b[39m'\u001b[39m\u001b[39mC\u001b[39m\u001b[39m{\u001b[39;00mi\u001b[39m}\u001b[39;00m\u001b[39m'\u001b[39m)\n\u001b[0;32m----> 3\u001b[0m     \u001b[39mif\u001b[39;00m cell\u001b[39m.\u001b[39;49mvalue \u001b[39m<\u001b[39;49m \u001b[39m5\u001b[39;49m:\n\u001b[1;32m      4\u001b[0m         cell\u001b[39m.\u001b[39mcolor \u001b[39m=\u001b[39m (\u001b[39m0\u001b[39m, \u001b[39m255\u001b[39m, \u001b[39m0\u001b[39m)\n\u001b[1;32m      5\u001b[0m     \u001b[39melif\u001b[39;00m cell\u001b[39m.\u001b[39mvalue \u001b[39m>\u001b[39m \u001b[39m10\u001b[39m:\n",
      "\u001b[0;31mTypeError\u001b[0m: '<' not supported between instances of 'NoneType' and 'int'"
     ]
    }
   ],
   "source": [
    "for i in range(2, 10502):\n",
    "    cell = sht.range(f'C{i}')\n",
    "    if cell.value < 5:\n",
    "        cell.color = (0, 255, 0)\n",
    "    elif cell.value > 10:\n",
    "        cell.color = (255, 0, 0)\n",
    "    else:\n",
    "        cell.color = (255, 255, 0)"
   ]
  },
  {
   "cell_type": "markdown",
   "metadata": {},
   "source": [
    "7. Добавьте на лист `Рецепты`  столбец `n_reviews`, содержащий кол-во отзывов для этого рецепта. Выполните задание при помощи формул Excel."
   ]
  },
  {
   "cell_type": "code",
   "execution_count": 263,
   "metadata": {},
   "outputs": [],
   "source": [
    "sht_reviews = wb.sheets['Отзывы']\n",
    "\n",
    "sht.range('I1').value = 'n_reviews'\n",
    "\n",
    "\n"
   ]
  },
  {
   "cell_type": "markdown",
   "metadata": {},
   "source": [
    "## Лабораторная работа 7.2"
   ]
  },
  {
   "cell_type": "markdown",
   "metadata": {},
   "source": [
    "8. Напишите функцию `validate()`, которая проверяет соответствие всех строк из листа `Отзывы` следующим правилам:\n",
    "    * Рейтинг - это число от 0 до 5 включительно\n",
    "    * Соответствующий рецепт имеется на листе `Рецепты`\n",
    "    \n",
    "В случае несоответствия этим правилам, выделите строку красным цветом"
   ]
  },
  {
   "cell_type": "code",
   "execution_count": 272,
   "metadata": {},
   "outputs": [],
   "source": [
    "def validate(rating, id_review, recipe_id_set):\n",
    "    if (rating <= 0 or rating >= 5) and id_review not in recipe_id_set:\n",
    "        return True\n",
    "    return False\n",
    "\n",
    "recipe_id_set = sht.range('B2:B1501').value\n",
    "\n",
    "for i in range(2, 1502):\n",
    "    if validate(sht_reviews.range(f'E{i}').value, sht_reviews.range(f'C{i}').value, recipe_id_set):\n",
    "        sht_reviews.range(f'B{i}:F{i}').color = (255, 0, 0)\n"
   ]
  },
  {
   "cell_type": "markdown",
   "metadata": {},
   "source": [
    "9. В файле `recipes_model.csv` находится модель данных предметной области \"рецепты\". При помощи пакета `csv` считайте эти данные. При помощи пакета `xlwings` запишите данные на лист `Модель` книги `recipes_model.xlsx`, начиная с ячейки `A2`, не используя циклы. Сделайте скриншот текущего состояния листа и прикрепите в ячейку ноутбука. "
   ]
  },
  {
   "cell_type": "code",
   "execution_count": 280,
   "metadata": {},
   "outputs": [],
   "source": [
    "recipes_model = pd.read_csv('./data/recipes_model.csv', sep='\\t', header=None)\n",
    "recipes_model.to_excel('./recipes_model.xlsx', sheet_name='Модель', index=False)"
   ]
  },
  {
   "attachments": {},
   "cell_type": "markdown",
   "metadata": {},
   "source": [
    "![jupiter](./screenshot.png)"
   ]
  },
  {
   "cell_type": "markdown",
   "metadata": {},
   "source": [
    "10. При помощи пакета `xlwings` добавьте в столбец J формулу для описания столбца на языке SQL. Формула должна реализовывать следующую логику:\n",
    "\n",
    "    1\\. в начале строки идут значения из столбцов В и C (значение столбца С приведено к верхнему регистру), разделенные пробелом\n",
    "    \n",
    "    2\\. далее идут слова на основе столбца \"Ключ\"\n",
    "        2.1 если в столбце \"Ключ\" указано значение \"PK\", то дальше через пробел идет ключевое слово \"PRIMARY KEY\"\n",
    "        2.2 если в столбце \"Ключ\" указано значение \"FK\", то дальше через пробел идет ключевое слово \"REFERENCES\", затем значения столбцов H и I в формате \"название_таблицы(название_столбца)\"\n",
    "        \n",
    "    3\\. если в столбце \"Обязательно к заполнению\" указано значение \"Y\" и в столбце \"Ключ\" указано не \"PK\", то дальше через пробел идет ключевое слово \"NOT NULL\".\n",
    "\n",
    "Заполните этой формулой необходимое количество строк, используя \"протягивание\". Количество строк для протягивания определите на основе данных.\n",
    "\n",
    "Сделайте скриншот текущего состояния листа и прикрепите в ячейку ноутбука."
   ]
  },
  {
   "cell_type": "code",
   "execution_count": 311,
   "metadata": {},
   "outputs": [],
   "source": [
    "wb = xw.Book('./recipes_model.xlsx')\n",
    "\n",
    "xw.Range('J2:J18').formula2 = '=B2&\" \"&C2&IF(G2=\"PK\", \" PRIMARY KEY\", IF(G2=\"FK\", \" REFERENCES \"&H2&\"(\"&I2&\")\", \"\"))&IF(AND(D2=\"Y\", NOT(G2=\"PK\")), \" NOT NULL\", \"\")'"
   ]
  },
  {
   "attachments": {},
   "cell_type": "markdown",
   "metadata": {},
   "source": [
    "![jupiter](./screenshot_1.png)"
   ]
  },
  {
   "cell_type": "markdown",
   "metadata": {},
   "source": [
    "11. При помощи пакета `xlwings` измените стилизацию листа `Модель`.\n",
    "* для заголовков добавьте заливку цвета `00ccff`\n",
    "* примените автоподбор ширины столбца;\n",
    "* сделайте шрифт заголовков полужирным;\n",
    "* добавьте таблице автофильтр.\n",
    "\n",
    "Сделайте скриншот текущего состояния листа и прикрепите в ячейку ноутбука."
   ]
  },
  {
   "cell_type": "code",
   "execution_count": 329,
   "metadata": {},
   "outputs": [],
   "source": [
    "xw.Range('A1:J1').color = '#00ccff'\n",
    "\n",
    "for i in range(10):\n",
    "    xw.Range('A2:J18').columns[i].autofit()\n",
    "\n",
    "xw.Range('A1:J1').font.bold = True\n",
    "\n",
    "# xw.Range('A1:J1').api.AutoFilterMode = True"
   ]
  },
  {
   "cell_type": "markdown",
   "metadata": {},
   "source": [
    "12. Посчитайте количество атрибутов для каждой из сущностей. Создайте лист `Статистика` и запишите в него результат группировки, начиная с ячейки \"А1\". Визуализируйте полученный результат при помощи столбчатой диаграммы. Сохраните полученную визуализацию на лист `Статистика`, начиная с ячейки \"E2\".  Сделайте скриншот листа `Статистика` и прикрепите в ячейку ноутбука.\n",
    "\n",
    "* Вы можете воспользоваться методами для визуализации, которые поставляются вместе с объектами `pandas` (см. https://pandas.pydata.org/docs/reference/api/pandas.DataFrame.plot) "
   ]
  },
  {
   "cell_type": "code",
   "execution_count": null,
   "metadata": {},
   "outputs": [],
   "source": []
  }
 ],
 "metadata": {
  "kernelspec": {
   "display_name": "Python 3",
   "language": "python",
   "name": "python3"
  },
  "language_info": {
   "codemirror_mode": {
    "name": "ipython",
    "version": 3
   },
   "file_extension": ".py",
   "mimetype": "text/x-python",
   "name": "python",
   "nbconvert_exporter": "python",
   "pygments_lexer": "ipython3",
   "version": "3.9.6"
  },
  "vscode": {
   "interpreter": {
    "hash": "31f2aee4e71d21fbe5cf8b01ff0e069b9275f58929596ceb00d14d90e3e16cd6"
   }
  }
 },
 "nbformat": 4,
 "nbformat_minor": 4
}
